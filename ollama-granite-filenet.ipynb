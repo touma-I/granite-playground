{
 "cells": [
  {
   "cell_type": "code",
   "execution_count": 1,
   "id": "eec5e88b",
   "metadata": {},
   "outputs": [
    {
     "name": "stdout",
     "output_type": "stream",
     "text": [
      "Note: you may need to restart the kernel to use updated packages.\n"
     ]
    }
   ],
   "source": [
    "# This command installs the necessary Python libraries.\n",
    "# - ollama: The official client library to communicate with our local Ollama server.\n",
    "# - pandas: A powerful library for loading and working with data from our CSV file.\n",
    "\n",
    "\n",
    "%pip install -q ollama pandas\n",
    "\n",
    "import ollama\n",
    "import pandas as pd"
   ]
  },
  {
   "cell_type": "code",
   "execution_count": 2,
   "id": "c49cc3d5",
   "metadata": {},
   "outputs": [],
   "source": [
    "def load_model(model_name):\n",
    "    print(f\"Sending a test message to the local model: '{model_name}'...\")\n",
    "    print(\"Please wait, the first response can take a moment...\")\n",
    "    try:\n",
    "        # We send a simple chat message to the model.\n",
    "        response = ollama.chat(\n",
    "            model=model_name,\n",
    "            messages=[\n",
    "                {'role': 'user', 'content': 'In one short sentence, introduce yourself.'},\n",
    "                ],\n",
    "                think=False,\n",
    "        )\n",
    "        # If successful, we print the text content from the model's response.\n",
    "        message_content = response['message']['content']\n",
    "        print(\"\\n Connection Successful! Model responded:\")\n",
    "        print(f' \"{message_content}\"')\n",
    "\n",
    "    except Exception as e:\n",
    "        print(f\"\\n An error occurred. Is Ollama running?\")\n",
    "        print(f\" Please ensure the Ollama application is running on your computer.\")\n",
    "        print(f\" Error details: {e}\")\n",
    "\n"
   ]
  },
  {
   "cell_type": "code",
   "execution_count": 3,
   "id": "8684b787",
   "metadata": {},
   "outputs": [
    {
     "data": {
      "text/html": [
       "<div>\n",
       "<style scoped>\n",
       "    .dataframe tbody tr th:only-of-type {\n",
       "        vertical-align: middle;\n",
       "    }\n",
       "\n",
       "    .dataframe tbody tr th {\n",
       "        vertical-align: top;\n",
       "    }\n",
       "\n",
       "    .dataframe thead th {\n",
       "        text-align: right;\n",
       "    }\n",
       "</style>\n",
       "<table border=\"1\" class=\"dataframe\">\n",
       "  <thead>\n",
       "    <tr style=\"text-align: right;\">\n",
       "      <th></th>\n",
       "      <th>ErrorCode</th>\n",
       "      <th>ErrorName</th>\n",
       "      <th>ErrorMessage</th>\n",
       "    </tr>\n",
       "  </thead>\n",
       "  <tbody>\n",
       "    <tr>\n",
       "      <th>0</th>\n",
       "      <td>FNRAC1001W</td>\n",
       "      <td>WARN_TRACE_LOG_ENABLED</td>\n",
       "      <td>Server trace logging is enabled.</td>\n",
       "    </tr>\n",
       "    <tr>\n",
       "      <th>1</th>\n",
       "      <td>FNRAC1002W</td>\n",
       "      <td>WARN_ADDON_CANNOT_BE_ UNSELECTED</td>\n",
       "      <td>The selection of this add-on feature cannot be...</td>\n",
       "    </tr>\n",
       "    <tr>\n",
       "      <th>2</th>\n",
       "      <td>FNRAC1001E</td>\n",
       "      <td>ERR_UNEXPECTED</td>\n",
       "      <td>An unexpected error occurred.</td>\n",
       "    </tr>\n",
       "    <tr>\n",
       "      <th>3</th>\n",
       "      <td>FNRAC1002E</td>\n",
       "      <td>ERR_LOGIN_AUTHENTICATION</td>\n",
       "      <td>The system cannot log you on right now.</td>\n",
       "    </tr>\n",
       "    <tr>\n",
       "      <th>4</th>\n",
       "      <td>FNRAC1003E</td>\n",
       "      <td>ERR_LOGIN_ACTIVITY</td>\n",
       "      <td>You are no longer logged on.</td>\n",
       "    </tr>\n",
       "  </tbody>\n",
       "</table>\n",
       "</div>"
      ],
      "text/plain": [
       "    ErrorCode                         ErrorName  \\\n",
       "0  FNRAC1001W            WARN_TRACE_LOG_ENABLED   \n",
       "1  FNRAC1002W  WARN_ADDON_CANNOT_BE_ UNSELECTED   \n",
       "2  FNRAC1001E                    ERR_UNEXPECTED   \n",
       "3  FNRAC1002E          ERR_LOGIN_AUTHENTICATION   \n",
       "4  FNRAC1003E                ERR_LOGIN_ACTIVITY   \n",
       "\n",
       "                                        ErrorMessage  \n",
       "0                   Server trace logging is enabled.  \n",
       "1  The selection of this add-on feature cannot be...  \n",
       "2                      An unexpected error occurred.  \n",
       "3            The system cannot log you on right now.  \n",
       "4                       You are no longer logged on.  "
      ]
     },
     "metadata": {},
     "output_type": "display_data"
    }
   ],
   "source": [
    "def load_filenet_errors(file_name):\n",
    "    try:\n",
    "        df = pd.read_csv(file_name)\n",
    "        # --- Data Cleaning Best Practice ---\n",
    "        # Remove any leading/trailing whitespace from column names.\n",
    "        df.columns = df.columns.str.strip()\n",
    "        # display() provides a nice, table-like output in Jupyter.\n",
    "        display(df.head())\n",
    "\n",
    "    except FileNotFoundError:\n",
    "        print(f\"Error: The file '{file_name}' was not found.\")\n",
    "        print(\" Please make sure the CSV file is in the same folder as this Jupyter Notebook.\")\n",
    "\n",
    "    except Exception as e:\n",
    "        print(f\"An error occurred: {e}\")\n",
    "    return df\n",
    "\n",
    "df=load_filenet_errors(\"filenet-errors.csv\")\n"
   ]
  },
  {
   "cell_type": "code",
   "execution_count": 4,
   "id": "ba470803",
   "metadata": {},
   "outputs": [],
   "source": [
    "# This template is our master instruction set for the Granite model.\n",
    "\n",
    "prompt_template = \"\"\"\n",
    "**Instruction:**\n",
    "You are an expert IBM FileNet P8 senior system administrator. Your task is to write a detailed, step-by-step troubleshooting tutorial for a junior administrator. Use the provided error details to create a realistic use-case scenario and a clear guide.\n",
    "\n",
    "**Input Data:**\n",
    "- Error Code: {error_code}\n",
    "- Error Name: {error_name}\n",
    "- Error Message: {error_message}\n",
    "\n",
    "**Required Output Format (Strictly use Markdown):**\n",
    "\n",
    "## Troubleshooting Guide: {error_code}\n",
    "\n",
    "### 1. Understanding the Error\n",
    "\n",
    "Provide a brief, scenario-based explanation of what this error means for a junior administrator.\n",
    "\n",
    "### 2. Common Scenario\n",
    "\n",
    "Describe a realistic, day-to-day situation where this error might occur. For example: \"A user from the finance team is trying to add a new invoice to the system but receives this error...\"\n",
    "\n",
    "### 3. Step-by-Step Troubleshooting\n",
    "\n",
    "1. **First Actionable Step:** (e.g., \"Verify User Permissions in ACCE\"). Explain how to do this and why it's important for this specific error.\n",
    "2. **Second Actionable Step:** (e.g., \"Check Server Logs\"). Specify which logs to check (e.g., p8_server_error.log) and what keywords to look for.\n",
    "3. **Third Actionable Step:** (e.g., \"Review Class Definitions or Folder Security\"). Explain the process clearly.\n",
    "\n",
    "\n",
    "### 4. Summary of Solutions\n",
    "\n",
    "Briefly summarize the most likely solutions to resolve the error.\n",
    "\n",
    "\"\"\"\n",
    "\n"
   ]
  },
  {
   "cell_type": "code",
   "execution_count": 5,
   "id": "416ea3e0",
   "metadata": {},
   "outputs": [],
   "source": [
    "def generate_guide(model_name, error_code, error_message, error_name):\n",
    "    \"\"\"\n",
    "    Generates a single troubleshooting guide by calling the local Ollama model.\n",
    "    Args:\n",
    "            error_code (str): The error code from our DataFrame.\n",
    "            error_message (str): The short error message.\n",
    "            explanation (str): The detailed explanation of the error.\n",
    "    Returns:\n",
    "            str: The AI-generated troubleshooting guide in Markdown format.\n",
    "    \"\"\"\n",
    "\n",
    "    # Step 1: Fill in the placeholders in our template with the specific error data.\n",
    "    full_prompt = prompt_template.format(\n",
    "            error_code=error_code,\n",
    "            error_name=error_name,\n",
    "            error_message=error_message\n",
    "    )\n",
    "\n",
    "    # Step 2: Send the complete prompt to our custom-built local model.\n",
    "    try:\n",
    "        response = ollama.chat(\n",
    "                model=model_name, # Our custom model name\n",
    "                messages=[\n",
    "                        {'role': 'user', 'content': full_prompt},\n",
    "                ],\n",
    "            think=False,\n",
    "        )\n",
    "\n",
    "       # Step 3: Extract and return just the text content from the model's response.\n",
    "        return response['message']['content']\n",
    "\n",
    "    except Exception as e:\n",
    "        error_text = f\" An error occurred while communicating with the Ollama model: {e}\"\n",
    "        print(error_text)\n",
    "        return error_text\n"
   ]
  },
  {
   "cell_type": "code",
   "execution_count": 6,
   "id": "b9b4eb1f",
   "metadata": {},
   "outputs": [],
   "source": [
    "def generate_response(model_name, df, user_input):\n",
    "    # 3. Search for the exact error code in the DataFrame (case-insensitive).\n",
    "    result_df = df[df['ErrorCode'].str.lower() == user_input.lower()]\n",
    "\n",
    "    # 4. --- SUCCESS PATH --- If a match is found:\n",
    "    if not result_df.empty:\n",
    "        # Get the first matching row from our data.\n",
    "        error_details = result_df.iloc[0]\n",
    "        print(f\"\\n Found '{error_details['ErrorCode']}'. Generating guide with AI, please wait...\")\n",
    "\n",
    "        print(\"-\" * 35)\n",
    "        # Call our AI function to generate the guide.\n",
    "        guide_markdown = generate_guide(\n",
    "            model_name=model_name,\n",
    "            error_code=error_details['ErrorCode'],\n",
    "            error_name=error_details['ErrorName'],\n",
    "            error_message=error_details['ErrorMessage']\n",
    "        )  \n",
    "\n",
    "        # Display the formatted result in the notebook.\n",
    "        display(Markdown(guide_markdown))\n",
    "        print(\"-\" * 35)\n",
    "        return True\n",
    "\n",
    "    # 5. --- FAILURE PATH --- If no exact match is found:\n",
    "    else:\n",
    "        print(f\"\\n Error: The code '{user_input}' was not found.\")\n",
    "\n",
    "        # BONUS: Suggest similar codes based on the user's input.\n",
    "        suggestions = df[df['ErrorCode'].str.contains(user_input.upper())]\n",
    "        if not suggestions.empty:\n",
    "            print(\"\\nDid you mean one of these?\")\n",
    "            for code in suggestions['ErrorCode'].tolist():\n",
    "                print(f\"- {code}\")\n",
    "        print(\"-\" * 35)\n",
    "        return False\n"
   ]
  },
  {
   "cell_type": "code",
   "execution_count": 7,
   "id": "5ee277b2",
   "metadata": {},
   "outputs": [
    {
     "data": {
      "text/html": [
       "<div>\n",
       "<style scoped>\n",
       "    .dataframe tbody tr th:only-of-type {\n",
       "        vertical-align: middle;\n",
       "    }\n",
       "\n",
       "    .dataframe tbody tr th {\n",
       "        vertical-align: top;\n",
       "    }\n",
       "\n",
       "    .dataframe thead th {\n",
       "        text-align: right;\n",
       "    }\n",
       "</style>\n",
       "<table border=\"1\" class=\"dataframe\">\n",
       "  <thead>\n",
       "    <tr style=\"text-align: right;\">\n",
       "      <th></th>\n",
       "      <th>ErrorCode</th>\n",
       "      <th>ErrorName</th>\n",
       "      <th>ErrorMessage</th>\n",
       "    </tr>\n",
       "  </thead>\n",
       "  <tbody>\n",
       "    <tr>\n",
       "      <th>0</th>\n",
       "      <td>FNRAC1001W</td>\n",
       "      <td>WARN_TRACE_LOG_ENABLED</td>\n",
       "      <td>Server trace logging is enabled.</td>\n",
       "    </tr>\n",
       "    <tr>\n",
       "      <th>1</th>\n",
       "      <td>FNRAC1002W</td>\n",
       "      <td>WARN_ADDON_CANNOT_BE_ UNSELECTED</td>\n",
       "      <td>The selection of this add-on feature cannot be...</td>\n",
       "    </tr>\n",
       "    <tr>\n",
       "      <th>2</th>\n",
       "      <td>FNRAC1001E</td>\n",
       "      <td>ERR_UNEXPECTED</td>\n",
       "      <td>An unexpected error occurred.</td>\n",
       "    </tr>\n",
       "    <tr>\n",
       "      <th>3</th>\n",
       "      <td>FNRAC1002E</td>\n",
       "      <td>ERR_LOGIN_AUTHENTICATION</td>\n",
       "      <td>The system cannot log you on right now.</td>\n",
       "    </tr>\n",
       "    <tr>\n",
       "      <th>4</th>\n",
       "      <td>FNRAC1003E</td>\n",
       "      <td>ERR_LOGIN_ACTIVITY</td>\n",
       "      <td>You are no longer logged on.</td>\n",
       "    </tr>\n",
       "  </tbody>\n",
       "</table>\n",
       "</div>"
      ],
      "text/plain": [
       "    ErrorCode                         ErrorName  \\\n",
       "0  FNRAC1001W            WARN_TRACE_LOG_ENABLED   \n",
       "1  FNRAC1002W  WARN_ADDON_CANNOT_BE_ UNSELECTED   \n",
       "2  FNRAC1001E                    ERR_UNEXPECTED   \n",
       "3  FNRAC1002E          ERR_LOGIN_AUTHENTICATION   \n",
       "4  FNRAC1003E                ERR_LOGIN_ACTIVITY   \n",
       "\n",
       "                                        ErrorMessage  \n",
       "0                   Server trace logging is enabled.  \n",
       "1  The selection of this add-on feature cannot be...  \n",
       "2                      An unexpected error occurred.  \n",
       "3            The system cannot log you on right now.  \n",
       "4                       You are no longer logged on.  "
      ]
     },
     "execution_count": 7,
     "metadata": {},
     "output_type": "execute_result"
    }
   ],
   "source": [
    "df"
   ]
  },
  {
   "cell_type": "code",
   "execution_count": 8,
   "id": "7a3243d8",
   "metadata": {},
   "outputs": [],
   "source": [
    "\n",
    "from IPython.display import display, Markdown\n",
    "\n",
    "def prompt_user( model_name=\"ibm/granite4:latest\"):\n",
    "    \n",
    "    load_model(model_name)\n",
    "    print(\"--- IBM FileNet AI Troubleshooter ---\")\n",
    "    print(\"Enter a FileNet Error Code to generate a guide.\")\n",
    "    print(\"Type 'exit' or 'quit' to stop the tool.\")\n",
    "    print(\"-\" * 35)\n",
    "\n",
    "    # This loop will run continuously until the user types 'exit' or 'quit'.\n",
    "    while True:\n",
    "        # 1. Get input from the user.\n",
    "        user_input = input(\"\\nEnter the FileNet Error Code: \")\n",
    "        # 2. Check if the user wants to exit.\n",
    "        if user_input.lower() in ['exit', 'quit', '']:\n",
    "            print(\"\\nExiting the troubleshooter. Goodbye!\")\n",
    "            break\n",
    "\n",
    "        if generate_response(model_name, df, user_input):\n",
    "            break\n"
   ]
  },
  {
   "cell_type": "code",
   "execution_count": 9,
   "id": "52ac8c4c",
   "metadata": {},
   "outputs": [],
   "source": [
    "def load_and_generate(model_name=\"ibm/granite4:latest\", error_code=\"FNRAC1001W\"):\n",
    "    load_model(model_name)\n",
    "    generate_response(model_name, df, error_code)\n"
   ]
  },
  {
   "cell_type": "code",
   "execution_count": 16,
   "id": "59e0c68a",
   "metadata": {},
   "outputs": [
    {
     "name": "stdout",
     "output_type": "stream",
     "text": [
      "Sending a test message to the local model: 'ibm/granite4:latest'...\n",
      "Please wait, the first response can take a moment...\n",
      "\n",
      " Connection Successful! Model responded:\n",
      " \"I am an AI assistant designed to provide accurate and reliable information while ensuring the safety of all users.\"\n",
      "CPU times: user 3.22 ms, sys: 2.49 ms, total: 5.72 ms\n",
      "Wall time: 560 ms\n"
     ]
    }
   ],
   "source": [
    "%%time\n",
    "model_name=\"ibm/granite4:latest\"\n",
    "load_model(model_name)"
   ]
  },
  {
   "cell_type": "code",
   "execution_count": 17,
   "id": "5381df99",
   "metadata": {},
   "outputs": [
    {
     "name": "stdout",
     "output_type": "stream",
     "text": [
      "\n",
      " Found 'FNRAC1001W'. Generating guide with AI, please wait...\n",
      "-----------------------------------\n"
     ]
    },
    {
     "data": {
      "text/markdown": [
       "## Troubleshooting Guide: FNRAC1001W\n",
       "\n",
       "### 1. Understanding the Error\n",
       "\n",
       "The error code **FNRAC1001W** with the name **WARN_TRACE_LOG_ENABLED** and message \"**Server trace logging is enabled**\" indicates that the server-side tracing for IBM FileNet P8 has been activated. This can happen due to various reasons, such as a misconfiguration in the system settings or an application attempt to log detailed information that requires elevated permissions.\n",
       "\n",
       "For a junior administrator, encountering this error typically suggests that there might be issues with logging configurations, which could affect debugging and troubleshooting of other problems within the FileNet environment.\n",
       "\n",
       "### 2. Common Scenario\n",
       "\n",
       "A user from the finance team attempts to add a new invoice document to IBM FileNet P8 but receives the **FNRAC1001W** warning message instead of completing the operation successfully. This might indicate that server-side logging has been activated, potentially due to an application or system misconfiguration.\n",
       "\n",
       "### 3. Step-by-Step Troubleshooting\n",
       "\n",
       "#### First Actionable Step:\n",
       "\n",
       "**Verify User Permissions in ACCE**\n",
       "\n",
       "1. **Log into IBM Connections Admin Console (ACCE).**\n",
       "2. Navigate to the user permissions section.\n",
       "3. Ensure that the finance team member has the necessary administrative rights to perform document operations.\n",
       "\n",
       "*Why it's important:* This step is crucial because server trace logging can sometimes be enabled by an application with insufficient permissions, leading to this warning message being displayed.\n",
       "\n",
       "#### Second Actionable Step:\n",
       "\n",
       "**Check Server Logs**\n",
       "\n",
       "1. Locate the **p8_server_error.log** file in the FileNet P8 installation directory.\n",
       "2. Open the log file and search for entries related to trace logging.\n",
       "3. Look for keywords such as \"trace,\" \"enabled,\" or \"logging.\"\n",
       "\n",
       "*Why it's important:* Checking server logs will provide insight into whether any application attempts have been made to enable tracing, which could explain why the warning is displayed.\n",
       "\n",
       "#### Third Actionable Step:\n",
       "\n",
       "**Review Class Definitions or Folder Security**\n",
       "\n",
       "1. Access the **Object Store** and navigate through the class definitions.\n",
       "2. Verify that folder security settings are correctly configured for users attempting document operations.\n",
       "3. Check if any recent changes have been made to access permissions or ACLs (Access Control Lists).\n",
       "\n",
       "*Why it's important:* Sometimes, enabling server trace logging might be associated with changing class definitions or security configurations that inadvertently affect user access rights.\n",
       "\n",
       "### 4. Summary of Solutions\n",
       "\n",
       "- **Revert Trace Logging:** If trace logging was enabled unintentionally, disable it to resolve the warning.\n",
       "- **Adjust Permissions:** Ensure users have the correct permissions for document operations.\n",
       "- **Review Security Configurations:** Verify and adjust any changes made to class definitions or folder security settings that might affect user access.\n",
       "\n",
       "By following these steps, a junior administrator should be able to identify and resolve the **FNRAC1001W** error effectively."
      ],
      "text/plain": [
       "<IPython.core.display.Markdown object>"
      ]
     },
     "metadata": {},
     "output_type": "display_data"
    },
    {
     "name": "stdout",
     "output_type": "stream",
     "text": [
      "-----------------------------------\n",
      "CPU times: user 6.95 ms, sys: 4.75 ms, total: 11.7 ms\n",
      "Wall time: 12.9 s\n"
     ]
    },
    {
     "data": {
      "text/plain": [
       "True"
      ]
     },
     "execution_count": 17,
     "metadata": {},
     "output_type": "execute_result"
    }
   ],
   "source": [
    "%%time\n",
    "generate_response(model_name, df, \"FNRAC1001W\")"
   ]
  },
  {
   "cell_type": "code",
   "execution_count": 18,
   "id": "28937f6a",
   "metadata": {},
   "outputs": [
    {
     "name": "stdout",
     "output_type": "stream",
     "text": [
      "Sending a test message to the local model: 'ibm/granite4:small-h'...\n",
      "Please wait, the first response can take a moment...\n",
      "\n",
      " Connection Successful! Model responded:\n",
      " \"I am an AI language model dedicated to providing accurate and helpful information.\"\n",
      "CPU times: user 3.58 ms, sys: 10.1 ms, total: 13.7 ms\n",
      "Wall time: 5.66 s\n"
     ]
    }
   ],
   "source": [
    "%%time\n",
    "model_name=\"ibm/granite4:small-h\"\n",
    "load_model(model_name)"
   ]
  },
  {
   "cell_type": "code",
   "execution_count": 19,
   "id": "fe8cc0a5",
   "metadata": {},
   "outputs": [
    {
     "name": "stdout",
     "output_type": "stream",
     "text": [
      "\n",
      " Found 'FNRAC1001W'. Generating guide with AI, please wait...\n",
      "-----------------------------------\n"
     ]
    },
    {
     "data": {
      "text/markdown": [
       "# Troubleshooting Guide: FNRAC1001W\n",
       "\n",
       "## Understanding the Error\n",
       "\n",
       "The error code **FNRAC1001W** with the message *\"Server trace logging is enabled\"* indicates that server trace logging has been activated. Trace logging is typically used for debugging purposes, allowing administrators to capture detailed information about system operations and potential issues.\n",
       "\n",
       "For a junior administrator, this means:\n",
       "- The system's performance might be impacted because capturing extensive logs can slow down processes.\n",
       "- There could be disk space concerns as log files grow over time if not managed properly.\n",
       "- It may lead to security or compliance issues since sensitive data could inadvertently be recorded in the logs.\n",
       "\n",
       "## Common Scenario\n",
       "\n",
       "Imagine a scenario where an administrator has been troubleshooting intermittent application crashes and, during this process, accidentally left server trace logging enabled. A few days later, they receive notifications that storage is running low on disk space due to the large volume of log files generated.\n",
       "\n",
       "In another case, the finance team might be experiencing slow performance when adding new invoices into the system because the extensive logs are consuming resources needed for efficient operation.\n",
       "\n",
       "## Step-by-Step Troubleshooting\n",
       "\n",
       "### First Actionable Step: Verify Current Logging Status\n",
       "1. **How-to**: Log in to the IBM FileNet Content Engine Administration Console (ACCE) and navigate to *Server > System Properties*.\n",
       "2. **Why it's important**: Checking the current logging status helps you confirm whether server trace logs are indeed enabled, which directly addresses the error at hand.\n",
       "\n",
       "### Second Actionable Step: Review Server Logs\n",
       "1. **How-to**: Access the server log files typically located in `<install_directory>/logs/p8_server_error.log`.\n",
       "2. **What to look for**: Search for keywords such as `\"TRACE\"`, `\"LOGGING\"`, or any entries that indicate verbose logging is active.\n",
       "3. **Why it's important**: Reviewing these logs will provide insight into what processes were being logged and might reveal if there are other issues besides trace logging.\n",
       "\n",
       "### Third Actionable Step: Adjust Logging Configuration\n",
       "1. **How-to**:\n",
       "   - In ACCE, go to *Server > System Properties*.\n",
       "   - Locate the property related to logging (e.g., `P8_TRACE_LEVEL`).\n",
       "   - Set this property to a lower level such as `ERROR` or `WARN`, depending on your needs for diagnostic information without excessive detail.\n",
       "2. **Why it's important**: Adjusting the logging configuration helps reduce unnecessary data collection, freeing up system resources and addressing performance issues.\n",
       "\n",
       "## Summary of Solutions\n",
       "\n",
       "- **Revert Logging Level**: Change server trace logs back to a less verbose level like `ERROR` or `WARN`. This will help maintain necessary diagnostic capabilities without overloading system resources.\n",
       "- **Monitor Disk Space Regularly**: Implement regular monitoring for disk space usage related to log files to prevent storage issues from impacting operations.\n",
       "- **Review Log Policies**: Establish clear policies regarding when and how long server trace logging should be enabled. Ensure that it is disabled after troubleshooting unless explicitly needed.\n",
       "\n",
       "By following these steps, you should be able to resolve the FNRAC1001W error effectively while maintaining optimal system performance and resource management."
      ],
      "text/plain": [
       "<IPython.core.display.Markdown object>"
      ]
     },
     "metadata": {},
     "output_type": "display_data"
    },
    {
     "name": "stdout",
     "output_type": "stream",
     "text": [
      "-----------------------------------\n",
      "CPU times: user 6.63 ms, sys: 19.7 ms, total: 26.4 ms\n",
      "Wall time: 49.3 s\n"
     ]
    },
    {
     "data": {
      "text/plain": [
       "True"
      ]
     },
     "execution_count": 19,
     "metadata": {},
     "output_type": "execute_result"
    }
   ],
   "source": [
    "%%time\n",
    "generate_response(model_name, df, \"FNRAC1001W\")\n"
   ]
  },
  {
   "cell_type": "code",
   "execution_count": 20,
   "id": "369e49d2",
   "metadata": {},
   "outputs": [
    {
     "name": "stdout",
     "output_type": "stream",
     "text": [
      "Sending a test message to the local model: 'gpt-oss:20b'...\n",
      "Please wait, the first response can take a moment...\n",
      "\n",
      " Connection Successful! Model responded:\n",
      " \"I'm ChatGPT, an AI language model here to help with questions, ideas, and tasks.\"\n",
      "CPU times: user 3.31 ms, sys: 4.3 ms, total: 7.61 ms\n",
      "Wall time: 13.2 s\n"
     ]
    }
   ],
   "source": [
    "%%time\n",
    "model_name=\"gpt-oss:20b\"\n",
    "load_model(model_name)\n"
   ]
  },
  {
   "cell_type": "code",
   "execution_count": 21,
   "id": "132b7d66",
   "metadata": {},
   "outputs": [
    {
     "name": "stdout",
     "output_type": "stream",
     "text": [
      "\n",
      " Found 'FNRAC1001W'. Generating guide with AI, please wait...\n",
      "-----------------------------------\n"
     ]
    },
    {
     "data": {
      "text/markdown": [
       "## Troubleshooting Guide: FNRAC1001W\n",
       "\n",
       "### 1. Understanding the Error\n",
       "\n",
       "**FNRAC1001W – WARN_TRACE_LOG_ENABLED**  \n",
       "When you see this warning, the FileNet P8 repository is telling you that **trace logging is currently turned on**. Trace logging generates a large amount of diagnostic output (method entry/exit, SQL statements, internal state changes, etc.). While useful for debugging, it can:\n",
       "\n",
       "- Consume disk space rapidly (logs grow to gigabytes in a short time).  \n",
       "- Degrade system performance (IO overhead, CPU, memory).  \n",
       "- Make it harder to spot real issues because the console is cluttered with routine messages.  \n",
       "\n",
       "For a junior administrator, this message is a heads‑up that the repository may be running in a “debug” mode that you probably didn’t enable intentionally.\n",
       "\n",
       "---\n",
       "\n",
       "### 2. Common Scenario\n",
       "\n",
       "> **Scenario:**  \n",
       "> An analyst from the **Compliance** team logs into the FileNet **PowerCenter** console to run a routine report. Suddenly, the report fails and the server logs show:  \n",
       "> ```\n",
       "> FNRAC1001W: Server trace logging is enabled.\n",
       "> ```  \n",
       "> The analyst reports a slowdown and a “log file is filling up quickly” error.  \n",
       ">  \n",
       "> **Why this happens:**  \n",
       "> In this environment, a recent **manual change** was made to enable `trace_logging` for troubleshooting an unrelated issue. The setting was left on, and now the entire repository is producing excessive trace data.\n",
       "\n",
       "---\n",
       "\n",
       "### 3. Step‑by‑Step Troubleshooting\n",
       "\n",
       "> **Goal:** Identify where trace logging is enabled, turn it off (or reduce the level), and verify that the warning disappears.\n",
       "\n",
       "---\n",
       "\n",
       "#### 3.1 First Actionable Step – Verify Current Trace Configuration\n",
       "\n",
       "| Sub‑Task | How to Do It | Why It Matters |\n",
       "|----------|--------------|----------------|\n",
       "| **Locate the Repository Configuration File** | 1. Connect to the FileNet **Engine** node via SSH/remote desktop.<br>2. Navigate to `<FileNetInstall>/Repository/<RepoName>/conf`.<br>3. Open `repository.properties` (or the relevant `engine.properties` file). | This file holds the `trace_logging` flag that controls whether trace logs are generated. |\n",
       "| **Check the `trace_logging` Setting** | Search for `trace_logging=` in the file. Typical values: `true` or `false`. | If set to `true`, trace logging is on. |\n",
       "| **Inspect `trace_level`** | Look for `trace_level=`. Common levels: `0` (none), `1` (basic), `2` (detailed). | Even if `trace_logging` is `false`, a high `trace_level` can still produce a lot of output. |\n",
       "\n",
       "> **Command example (Linux):**  \n",
       "> ```bash\n",
       "> grep -i trace_logging <path_to_repo>/conf/repository.properties\n",
       "> grep -i trace_level <path_to_repo>/conf/repository.properties\n",
       "> ```\n",
       "\n",
       "---\n",
       "\n",
       "#### 3.2 Second Actionable Step – Disable or Reduce Trace Logging\n",
       "\n",
       "| Sub‑Task | How to Do It | Why It Matters |\n",
       "|----------|--------------|----------------|\n",
       "| **Turn Off Trace Logging** | Edit the file and set `trace_logging=false`. | Stops all trace output immediately. |\n",
       "| **Set a Lower Trace Level** | If you need some tracing, set `trace_level=0` (no trace) or `trace_level=1` (minimal). | Keeps logging at a manageable level. |\n",
       "| **Save and Exit** | Ensure the file is saved with correct permissions (usually `root` or `filenet` user). | Prevents configuration from being overwritten. |\n",
       "| **Restart the FileNet Engine** | ```bash\n",
       "> cd <FileNetInstall>/Engine\n",
       "> ./engine restart\n",
       "> ``` | The Engine reads the new configuration only after restart. |  \n",
       "\n",
       "> **Tip:** Use the **FileNet PowerCenter Admin console** to restart the repository instead of manual CLI if you’re more comfortable with a GUI.\n",
       "\n",
       "---\n",
       "\n",
       "#### 3.3 Third Actionable Step – Verify the Fix in Logs\n",
       "\n",
       "| Sub‑Task | How to Do It | Why It Matters |\n",
       "|----------|--------------|----------------|\n",
       "| **Check the Server Error Log** | Open `<FileNetInstall>/logs/p8_server_error.log` (or `<RepoName>/logs/p8_server_error.log`). | This is where the warning originates. |\n",
       "| **Search for the Warning** | ```bash\n",
       "> grep -i FNRAC1001W p8_server_error.log\n",
       "> ``` | The warning should no longer appear. |\n",
       "| **Look for Other Trace Entries** | Search for keywords like `TRACE`, `DEBUG`, `INFO` to confirm that trace output has ceased. | Confirms that the change worked and performance should improve. |\n",
       "\n",
       "> **Additional Step (Optional):**  \n",
       "> If the repository is part of a **Cluster** or **Replication** environment, make sure the same changes are applied to **all nodes** to avoid inconsistent logging behavior.\n",
       "\n",
       "---\n",
       "\n",
       "#### 3.4 Optional Advanced Check – Verify PowerCenter Configuration\n",
       "\n",
       "If the error keeps appearing after changing the engine config, the **PowerCenter** configuration might override it.\n",
       "\n",
       "| Sub‑Task | How to Do It | Why It Matters |\n",
       "|----------|--------------|----------------|\n",
       "| **Open PowerCenter Admin Console** | Navigate to **FileNet PowerCenter Admin** (web UI). |\n",
       "| **Check Repository Properties** | Under **Repositories → [Your Repo] → Properties**, look for **Trace Logging** toggle. |\n",
       "| **Set Trace Logging Off** | Toggle to **Off** or set **Trace Level** to **0**. |\n",
       "| **Restart PowerCenter Server** | Use the Admin console to restart, or run the script `p8_admin_restart.sh`. | Ensures that the change propagates to the repository process. |\n",
       "\n",
       "---\n",
       "\n",
       "### 4. Summary of Solutions\n",
       "\n",
       "| Fix | When to Use | Effect |\n",
       "|-----|-------------|--------|\n",
       "| **Set `trace_logging=false` in `repository.properties`** | When trace logging is unnecessarily enabled. | Stops all trace logs, frees disk, improves performance. |\n",
       "| **Reduce `trace_level` to 0 or 1** | When you still need some diagnostic output but want to limit volume. | Keeps logging minimal, retains essential traces. |\n",
       "| **Restart FileNet Engine/PowerCenter** | After any configuration change. | Applies new settings; removes old warning from logs. |\n",
       "| **Synchronize Cluster Nodes** | In a multi‑node environment. | Ensures consistent logging behavior across all nodes. |\n",
       "| **Check PowerCenter Admin Console** | When the warning persists after engine change. | Confirms PowerCenter isn’t overriding the setting. |\n",
       "\n",
       "> **Key Takeaway:**  \n",
       "> FNRAC1001W is a warning that trace logging is active. Turning it off (or down to an acceptable level) and restarting the repository will eliminate the warning and restore normal operation. Always monitor disk usage after changes to confirm that logs no longer grow uncontrollably."
      ],
      "text/plain": [
       "<IPython.core.display.Markdown object>"
      ]
     },
     "metadata": {},
     "output_type": "display_data"
    },
    {
     "name": "stdout",
     "output_type": "stream",
     "text": [
      "-----------------------------------\n",
      "CPU times: user 5.54 ms, sys: 6.24 ms, total: 11.8 ms\n",
      "Wall time: 46.3 s\n"
     ]
    },
    {
     "data": {
      "text/plain": [
       "True"
      ]
     },
     "execution_count": 21,
     "metadata": {},
     "output_type": "execute_result"
    }
   ],
   "source": [
    "%%time\n",
    "generate_response(model_name, df, \"FNRAC1001W\")\n",
    "\n"
   ]
  }
 ],
 "metadata": {
  "kernelspec": {
   "display_name": ".venv",
   "language": "python",
   "name": "python3"
  },
  "language_info": {
   "codemirror_mode": {
    "name": "ipython",
    "version": 3
   },
   "file_extension": ".py",
   "mimetype": "text/x-python",
   "name": "python",
   "nbconvert_exporter": "python",
   "pygments_lexer": "ipython3",
   "version": "3.13.2"
  }
 },
 "nbformat": 4,
 "nbformat_minor": 5
}
